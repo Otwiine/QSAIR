{
 "cells": [
  {
   "cell_type": "markdown",
   "metadata": {},
   "source": [
    "# Finding the Centroid of US States"
   ]
  },
  {
   "cell_type": "code",
   "execution_count": null,
   "metadata": {},
   "outputs": [],
   "source": [
    "import geopandas as gpd\n",
    "import matplotlib.pyplot as plt"
   ]
  },
  {
   "cell_type": "code",
   "execution_count": null,
   "metadata": {},
   "outputs": [],
   "source": [
    "file_path = '/Users/otwiine/Desktop/us-state-boundaries/us-state-boundaries.shp'"
   ]
  },
  {
   "cell_type": "code",
   "execution_count": null,
   "metadata": {},
   "outputs": [],
   "source": [
    "USA = gpd.read_file(file_path)"
   ]
  },
  {
   "cell_type": "code",
   "execution_count": null,
   "metadata": {},
   "outputs": [],
   "source": [
    "USA = USA.to_crs(epsg=3857) # Meters"
   ]
  },
  {
   "cell_type": "code",
   "execution_count": null,
   "metadata": {},
   "outputs": [],
   "source": [
    "USA.centroid.explore()"
   ]
  },
  {
   "cell_type": "code",
   "execution_count": null,
   "metadata": {},
   "outputs": [],
   "source": [
    "USA['centroid'] = USA.geometry.centroid"
   ]
  },
  {
   "cell_type": "code",
   "execution_count": null,
   "metadata": {},
   "outputs": [],
   "source": [
    "fig, ax = plt.subplots(figsize=(50, 100))\n",
    "\n",
    "USA.plot(ax=ax, color='lightblue', edgecolor='black')\n",
    "\n",
    "USA['centroid'].plot(ax=ax, color='red', marker='o')\n",
    "\n",
    "plt.show()"
   ]
  },
  {
   "cell_type": "markdown",
   "metadata": {},
   "source": [
    "#### Centroids are the geographic center of a shape. Their main uses include providing points of reference, identifying central locations for resource distribution, and assisting in mapping and cartography.\n",
    "#### The main challenge I faced was finding a proper shapefile. Many of  the ones I found projected Hawaii on the far right of the map, instead of placing it on the left, closer to the mainland. This causes the plot to appear long, inturn reducing its visibility, which made it hard to work with.\n",
    "#### Another was plotting the centroids themselves. In the begining I was trying to plot the centroids by using (.centroid) After doing more research, I learned that I needed to create a new column within the GeoDataFrame with the centroid data and plot that instead. I will say using explore did give me more clear results, especially with the ability to interact with the map, allowing me to zoom in and move around.\n",
    "#### I personally prefer the using explore() function, but I provided both results."
   ]
  }
 ],
 "metadata": {
  "kernelspec": {
   "display_name": "base",
   "language": "python",
   "name": "python3"
  },
  "language_info": {
   "codemirror_mode": {
    "name": "ipython",
    "version": 3
   },
   "file_extension": ".py",
   "mimetype": "text/x-python",
   "name": "python",
   "nbconvert_exporter": "python",
   "pygments_lexer": "ipython3",
   "version": "3.12.7"
  }
 },
 "nbformat": 4,
 "nbformat_minor": 2
}
