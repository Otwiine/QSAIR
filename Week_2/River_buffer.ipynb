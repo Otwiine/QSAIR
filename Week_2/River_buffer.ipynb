{
 "cells": [
  {
   "cell_type": "markdown",
   "metadata": {},
   "source": [
    "## Creating Buffers around Rivers"
   ]
  },
  {
   "cell_type": "code",
   "execution_count": null,
   "metadata": {},
   "outputs": [],
   "source": [
    "import geopandas as gpd"
   ]
  },
  {
   "cell_type": "code",
   "execution_count": null,
   "metadata": {},
   "outputs": [],
   "source": [
    "file_path = '/Users/otwiine/Desktop/ne_10m_rivers_lake_centerlines/ne_10m_rivers_lake_centerlines.shp'"
   ]
  },
  {
   "cell_type": "code",
   "execution_count": null,
   "metadata": {},
   "outputs": [],
   "source": [
    "rivers = gpd.read_file(file_path)"
   ]
  },
  {
   "cell_type": "code",
   "execution_count": null,
   "metadata": {},
   "outputs": [],
   "source": [
    "rivers = rivers.to_crs(epsg=3857) # Uses meters"
   ]
  },
  {
   "cell_type": "code",
   "execution_count": null,
   "metadata": {},
   "outputs": [],
   "source": [
    "rivers.explore()"
   ]
  },
  {
   "cell_type": "code",
   "execution_count": null,
   "metadata": {},
   "outputs": [],
   "source": [
    "rivers['buffered'] = rivers.geometry.buffer(1000) # Creates a new column called buffered with the buffer data\n",
    "rivers.head()"
   ]
  },
  {
   "cell_type": "code",
   "execution_count": null,
   "metadata": {},
   "outputs": [],
   "source": [
    "rivers['buffered'].explore()"
   ]
  },
  {
   "cell_type": "markdown",
   "metadata": {},
   "source": [
    "#### Buffering rivers in Geo data analysis can be helpful in ensuring human safety.\n",
    "#### By using buffers we can create a protected area around the rivers, which we can use to simulate riverbank erosion. This can help us inform and warn communities about the dangers of encroaching on rivers, this would be very helpful in areas such as Uganda where many people build near rivers and rely on them as their primary source of water.\n",
    "#### We can also use the data to estimate flood risk, combining this with elavation and rainfall data, we can identify flood prone areas and create safe regions.\n",
    "#### The main challenge I encountered on this project was with the buffer procces. Initially, I using EPSG: 4326, a CRS that uses degrees, However, I later learned for greater accuracy when creating buffers, my crs should use meters. After converting the CRS I was able to continue without issues.\n",
    "#### Another challenge was finding shapefiles with clean and organized data"
   ]
  }
 ],
 "metadata": {
  "kernelspec": {
   "display_name": "base",
   "language": "python",
   "name": "python3"
  },
  "language_info": {
   "codemirror_mode": {
    "name": "ipython",
    "version": 3
   },
   "file_extension": ".py",
   "mimetype": "text/x-python",
   "name": "python",
   "nbconvert_exporter": "python",
   "pygments_lexer": "ipython3",
   "version": "3.12.7"
  }
 },
 "nbformat": 4,
 "nbformat_minor": 2
}
